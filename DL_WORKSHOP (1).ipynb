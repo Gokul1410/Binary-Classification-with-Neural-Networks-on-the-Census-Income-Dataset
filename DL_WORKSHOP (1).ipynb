{
 "cells": [
  {
   "cell_type": "code",
   "execution_count": 3,
   "id": "086ba377",
   "metadata": {},
   "outputs": [
    {
     "name": "stdout",
     "output_type": "stream",
     "text": [
      "Length of the dataset: 30000\n",
      "First 5 rows of the dataset:\n",
      "   age     sex    education  education-num marital-status    workclass  \\\n",
      "0   27    Male      HS-grad              9  Never-married      Private   \n",
      "1   47    Male      Masters             14        Married    Local-gov   \n",
      "2   59    Male      HS-grad              9       Divorced     Self-emp   \n",
      "3   38  Female  Prof-school             15  Never-married  Federal-gov   \n",
      "4   64  Female         11th              7        Widowed      Private   \n",
      "\n",
      "        occupation  hours-per-week income  label  \n",
      "0     Craft-repair              40  <=50K      0  \n",
      "1  Exec-managerial              50   >50K      1  \n",
      "2   Prof-specialty              20  <=50K      0  \n",
      "3   Prof-specialty              57   >50K      1  \n",
      "4  Farming-fishing              40  <=50K      0  \n"
     ]
    }
   ],
   "source": [
    "import torch\n",
    "import torch.nn as nn\n",
    "import numpy as np\n",
    "import pandas as pd\n",
    "import matplotlib.pyplot as plt\n",
    "from sklearn.utils import shuffle\n",
    "\n",
    "df = pd.read_csv('income.csv')\n",
    "\n",
    "# Check the length and preview of the dataframe\n",
    "print(f\"Length of the dataset: {len(df)}\")\n",
    "print(\"First 5 rows of the dataset:\")\n",
    "print(df.head())\n"
   ]
  },
  {
   "cell_type": "code",
   "execution_count": 4,
   "id": "1c2cb3f8",
   "metadata": {},
   "outputs": [
    {
     "name": "stdout",
     "output_type": "stream",
     "text": [
      "cat_cols has 5 columns\n",
      "cont_cols has 2 columns\n",
      "y_col has 1 column\n"
     ]
    }
   ],
   "source": [
    "# Define categorical and continuous columns\n",
    "cat_cols = ['sex', 'education', 'marital-status', 'workclass', 'occupation']\n",
    "cont_cols = ['age', 'hours-per-week']\n",
    "y_col = ['label']\n",
    "\n",
    "# Print out column counts\n",
    "print(f'cat_cols has {len(cat_cols)} columns')\n",
    "print(f'cont_cols has {len(cont_cols)} columns')\n",
    "print(f'y_col has {len(y_col)} column')"
   ]
  },
  {
   "cell_type": "code",
   "execution_count": 5,
   "id": "5915165b",
   "metadata": {},
   "outputs": [
    {
     "name": "stdout",
     "output_type": "stream",
     "text": [
      "   age     sex     education  education-num marital-status  workclass  \\\n",
      "0   23  Female       HS-grad              9  Never-married    Private   \n",
      "1   37  Female   Prof-school             15        Married  State-gov   \n",
      "2   34    Male  Some-college             10       Divorced    Private   \n",
      "3   31    Male       HS-grad              9        Married    Private   \n",
      "4   20  Female  Some-college             10  Never-married    Private   \n",
      "\n",
      "       occupation  hours-per-week income  label  \n",
      "0   Other-service              50  <=50K      0  \n",
      "1  Prof-specialty              39   >50K      1  \n",
      "2    Adm-clerical              40  <=50K      0  \n",
      "3    Craft-repair              40   >50K      1  \n",
      "4           Sales              25  <=50K      0  \n"
     ]
    }
   ],
   "source": [
    "# Convert categorical columns to category type\n",
    "for col in cat_cols:\n",
    "    df[col] = df[col].astype('category')\n",
    "\n",
    "# Shuffle the data\n",
    "df = shuffle(df, random_state=101)\n",
    "df.reset_index(drop=True, inplace=True)\n",
    "\n",
    "# Preview the first 5 rows of the shuffled dataset\n",
    "print(df.head())\n"
   ]
  },
  {
   "cell_type": "code",
   "execution_count": 6,
   "id": "0dff5260",
   "metadata": {},
   "outputs": [
    {
     "name": "stdout",
     "output_type": "stream",
     "text": [
      "Embedding sizes: [(2, 1), (14, 7), (6, 3), (5, 3), (12, 6)]\n",
      "cat_train shape: torch.Size([25000, 5])\n",
      "con_train shape: torch.Size([25000, 2])\n",
      "y_train shape: torch.Size([25000])\n"
     ]
    }
   ],
   "source": [
    "# Create embedding sizes for each categorical column\n",
    "cat_szs = [len(df[col].cat.categories) for col in cat_cols]\n",
    "emb_szs = [(size, min(50, (size+1)//2)) for size in cat_szs]\n",
    "print(f\"Embedding sizes: {emb_szs}\")\n",
    "\n",
    "# Convert categorical data to numeric codes\n",
    "cats = torch.tensor(np.stack([df[col].cat.codes.values for col in cat_cols], axis=1), dtype=torch.long)\n",
    "\n",
    "# Convert continuous data to tensors\n",
    "conts = torch.tensor(np.stack([df[col].values for col in cont_cols], axis=1), dtype=torch.float32)\n",
    "\n",
    "# Convert labels to tensor\n",
    "y = torch.tensor(df[y_col].values).flatten()\n",
    "\n",
    "# Split data into training and test sets\n",
    "b = 30000  # batch size\n",
    "t = 5000   # test size\n",
    "\n",
    "cat_train = cats[:b-t]\n",
    "cat_test  = cats[b-t:b]\n",
    "con_train = conts[:b-t]\n",
    "con_test  = conts[b-t:b]\n",
    "y_train   = y[:b-t]\n",
    "y_test    = y[b-t:b]\n",
    "\n",
    "print(f\"cat_train shape: {cat_train.shape}\")\n",
    "print(f\"con_train shape: {con_train.shape}\")\n",
    "print(f\"y_train shape: {y_train.shape}\")"
   ]
  },
  {
   "cell_type": "code",
   "execution_count": 7,
   "id": "6a06a9bc",
   "metadata": {},
   "outputs": [],
   "source": [
    "class TabularModel(nn.Module):\n",
    "    def __init__(self, emb_szs, n_cont, out_sz, layers, p=0.5):\n",
    "        super().__init__()\n",
    "        \n",
    "        # Create embedding layers for categorical columns\n",
    "        self.embeds = nn.ModuleList([nn.Embedding(ni, nf) for ni, nf in emb_szs])\n",
    "        \n",
    "        # Dropout for embeddings and batch normalization for continuous columns\n",
    "        self.emb_drop = nn.Dropout(p)\n",
    "        self.bn_cont = nn.BatchNorm1d(n_cont)\n",
    "\n",
    "        # Build hidden layers\n",
    "        layerlist = []\n",
    "        n_emb = sum((nf for ni, nf in emb_szs))\n",
    "        n_in = n_emb + n_cont\n",
    "\n",
    "        for i in layers:\n",
    "            layerlist.append(nn.Linear(n_in, i))\n",
    "            layerlist.append(nn.ReLU(inplace=True))\n",
    "            layerlist.append(nn.BatchNorm1d(i))\n",
    "            layerlist.append(nn.Dropout(p))\n",
    "            n_in = i\n",
    "        layerlist.append(nn.Linear(layers[-1], out_sz))\n",
    "        \n",
    "        self.layers = nn.Sequential(*layerlist)\n",
    "\n",
    "    def forward(self, x_cat, x_cont):\n",
    "        # Process categorical data through embedding layers\n",
    "        embeddings = [e(x_cat[:, i]) for i, e in enumerate(self.embeds)]\n",
    "        x = torch.cat(embeddings, 1)\n",
    "        x = self.emb_drop(x)\n",
    "\n",
    "        # Process continuous data through batch normalization\n",
    "        x_cont = self.bn_cont(x_cont)\n",
    "        x = torch.cat([x, x_cont], 1)\n",
    "\n",
    "        # Pass through the hidden layers\n",
    "        x = self.layers(x)\n",
    "        return x"
   ]
  },
  {
   "cell_type": "code",
   "execution_count": 8,
   "id": "1476c162",
   "metadata": {},
   "outputs": [
    {
     "name": "stdout",
     "output_type": "stream",
     "text": [
      "TabularModel(\n",
      "  (embeds): ModuleList(\n",
      "    (0): Embedding(2, 1)\n",
      "    (1): Embedding(14, 7)\n",
      "    (2): Embedding(6, 3)\n",
      "    (3): Embedding(5, 3)\n",
      "    (4): Embedding(12, 6)\n",
      "  )\n",
      "  (emb_drop): Dropout(p=0.4, inplace=False)\n",
      "  (bn_cont): BatchNorm1d(2, eps=1e-05, momentum=0.1, affine=True, track_running_stats=True)\n",
      "  (layers): Sequential(\n",
      "    (0): Linear(in_features=22, out_features=50, bias=True)\n",
      "    (1): ReLU(inplace=True)\n",
      "    (2): BatchNorm1d(50, eps=1e-05, momentum=0.1, affine=True, track_running_stats=True)\n",
      "    (3): Dropout(p=0.4, inplace=False)\n",
      "    (4): Linear(in_features=50, out_features=2, bias=True)\n",
      "  )\n",
      ")\n"
     ]
    }
   ],
   "source": [
    "# Initialize the model, loss function, and optimizer\n",
    "torch.manual_seed(33)\n",
    "model = TabularModel(emb_szs, n_cont=len(cont_cols), out_sz=2, layers=[50], p=0.4)\n",
    "\n",
    "# Use CrossEntropyLoss for classification and Adam optimizer\n",
    "criterion = nn.CrossEntropyLoss()\n",
    "optimizer = torch.optim.Adam(model.parameters(), lr=0.001)\n",
    "\n",
    "print(model)"
   ]
  },
  {
   "cell_type": "code",
   "execution_count": 9,
   "id": "0a44d791",
   "metadata": {},
   "outputs": [
    {
     "name": "stdout",
     "output_type": "stream",
     "text": [
      "Epoch   1 Loss: 0.81344736\n",
      "Epoch  26 Loss: 0.59463936\n",
      "Epoch  51 Loss: 0.51533055\n",
      "Epoch  76 Loss: 0.46403277\n",
      "Epoch 101 Loss: 0.42922780\n",
      "Epoch 126 Loss: 0.40061691\n",
      "Epoch 151 Loss: 0.37124613\n",
      "Epoch 176 Loss: 0.35843733\n",
      "Epoch 201 Loss: 0.34799820\n",
      "Epoch 226 Loss: 0.33588532\n",
      "Epoch 251 Loss: 0.33127117\n",
      "Epoch 276 Loss: 0.32283258\n"
     ]
    },
    {
     "data": {
      "image/png": "[encoded data removed]",
      "text/plain": [
       "<Figure size 640x480 with 1 Axes>"
      ]
     },
     "metadata": {},
     "output_type": "display_data"
    }
   ],
   "source": [
    "# Training loop\n",
    "epochs = 300\n",
    "losses = []\n",
    "\n",
    "for i in range(1, epochs + 1):\n",
    "    # Forward pass\n",
    "    y_pred = model(cat_train, con_train)\n",
    "    \n",
    "    # Compute loss\n",
    "    loss = criterion(y_pred, y_train)\n",
    "    losses.append(loss.item())\n",
    "\n",
    "    # Print loss every 25 epochs\n",
    "    if i % 25 == 1:\n",
    "        print(f'Epoch {i:3} Loss: {loss.item():.8f}')\n",
    "    \n",
    "    # Backpropagation\n",
    "    optimizer.zero_grad()\n",
    "    loss.backward()\n",
    "    optimizer.step()\n",
    "\n",
    "# Plot the loss curve\n",
    "plt.plot(losses)\n",
    "plt.xlabel('Epoch')\n",
    "plt.ylabel('Cross-Entropy Loss')\n",
    "plt.title('Training Loss Curve')\n",
    "plt.show()"
   ]
  }
 ],
 "metadata": {
  "kernelspec": {
   "display_name": "Python 3 (ipykernel)",
   "language": "python",
   "name": "python3"
  },
  "language_info": {
   "codemirror_mode": {
    "name": "ipython",
    "version": 3
   },
   "file_extension": ".py",
   "mimetype": "text/x-python",
   "name": "python",
   "nbconvert_exporter": "python",
   "pygments_lexer": "ipython3",
   "version": "3.11.13"
  }
 },
 "nbformat": 4,
 "nbformat_minor": 5
}
